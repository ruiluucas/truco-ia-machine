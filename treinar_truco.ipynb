{
 "cells": [
  {
   "cell_type": "code",
   "execution_count": 1,
   "metadata": {},
   "outputs": [],
   "source": [
    "import numpy as np\n",
    "import pandas as pd\n",
    "from tensorflow.keras.models import Sequential\n",
    "from tensorflow.keras.layers import Dense"
   ]
  },
  {
   "cell_type": "code",
   "execution_count": 3,
   "metadata": {},
   "outputs": [
    {
     "name": "stdout",
     "output_type": "stream",
     "text": [
      "Dados de Entrada:\n"
     ]
    },
    {
     "data": {
      "text/html": [
       "<div>\n",
       "<style scoped>\n",
       "    .dataframe tbody tr th:only-of-type {\n",
       "        vertical-align: middle;\n",
       "    }\n",
       "\n",
       "    .dataframe tbody tr th {\n",
       "        vertical-align: top;\n",
       "    }\n",
       "\n",
       "    .dataframe thead th {\n",
       "        text-align: right;\n",
       "    }\n",
       "</style>\n",
       "<table border=\"1\" class=\"dataframe\">\n",
       "  <thead>\n",
       "    <tr style=\"text-align: right;\">\n",
       "      <th></th>\n",
       "      <th>Primeira Carta</th>\n",
       "      <th>Segunda Carta</th>\n",
       "      <th>Terceira Carta</th>\n",
       "      <th>Minhas Vitórias</th>\n",
       "      <th>Vitórias do Adversário</th>\n",
       "      <th>Minha Carta Mais Forte</th>\n",
       "      <th>Minha Carta Média</th>\n",
       "      <th>Minha Carta Mais Fraca</th>\n",
       "      <th>Joguei Carta Mais Forte</th>\n",
       "      <th>Joguei Carta Média</th>\n",
       "      <th>Joguei Carta Mais Fraca</th>\n",
       "      <th>Primeira Carta Adversário</th>\n",
       "      <th>Segunda Carta Adversário</th>\n",
       "    </tr>\n",
       "  </thead>\n",
       "  <tbody>\n",
       "    <tr>\n",
       "      <th>0</th>\n",
       "      <td>1</td>\n",
       "      <td>2</td>\n",
       "      <td>3</td>\n",
       "      <td>0</td>\n",
       "      <td>1</td>\n",
       "      <td>13</td>\n",
       "      <td>7</td>\n",
       "      <td>1</td>\n",
       "      <td>1</td>\n",
       "      <td>0</td>\n",
       "      <td>0</td>\n",
       "      <td>5</td>\n",
       "      <td>8</td>\n",
       "    </tr>\n",
       "    <tr>\n",
       "      <th>1</th>\n",
       "      <td>0</td>\n",
       "      <td>0</td>\n",
       "      <td>0</td>\n",
       "      <td>1</td>\n",
       "      <td>0</td>\n",
       "      <td>10</td>\n",
       "      <td>5</td>\n",
       "      <td>3</td>\n",
       "      <td>0</td>\n",
       "      <td>1</td>\n",
       "      <td>0</td>\n",
       "      <td>7</td>\n",
       "      <td>6</td>\n",
       "    </tr>\n",
       "  </tbody>\n",
       "</table>\n",
       "</div>"
      ],
      "text/plain": [
       "   Primeira Carta  Segunda Carta  Terceira Carta  Minhas Vitórias  \\\n",
       "0               1              2               3                0   \n",
       "1               0              0               0                1   \n",
       "\n",
       "   Vitórias do Adversário  Minha Carta Mais Forte  Minha Carta Média  \\\n",
       "0                       1                      13                  7   \n",
       "1                       0                      10                  5   \n",
       "\n",
       "   Minha Carta Mais Fraca  Joguei Carta Mais Forte  Joguei Carta Média  \\\n",
       "0                       1                        1                   0   \n",
       "1                       3                        0                   1   \n",
       "\n",
       "   Joguei Carta Mais Fraca  Primeira Carta Adversário  \\\n",
       "0                        0                          5   \n",
       "1                        0                          7   \n",
       "\n",
       "   Segunda Carta Adversário  \n",
       "0                         8  \n",
       "1                         6  "
      ]
     },
     "metadata": {},
     "output_type": "display_data"
    },
    {
     "name": "stdout",
     "output_type": "stream",
     "text": [
      "\n",
      "Dados de Saída:\n"
     ]
    },
    {
     "data": {
      "text/html": [
       "<div>\n",
       "<style scoped>\n",
       "    .dataframe tbody tr th:only-of-type {\n",
       "        vertical-align: middle;\n",
       "    }\n",
       "\n",
       "    .dataframe tbody tr th {\n",
       "        vertical-align: top;\n",
       "    }\n",
       "\n",
       "    .dataframe thead th {\n",
       "        text-align: right;\n",
       "    }\n",
       "</style>\n",
       "<table border=\"1\" class=\"dataframe\">\n",
       "  <thead>\n",
       "    <tr style=\"text-align: right;\">\n",
       "      <th></th>\n",
       "      <th>Carta a Jogar</th>\n",
       "    </tr>\n",
       "  </thead>\n",
       "  <tbody>\n",
       "    <tr>\n",
       "      <th>0</th>\n",
       "      <td>3</td>\n",
       "    </tr>\n",
       "    <tr>\n",
       "      <th>1</th>\n",
       "      <td>1</td>\n",
       "    </tr>\n",
       "  </tbody>\n",
       "</table>\n",
       "</div>"
      ],
      "text/plain": [
       "   Carta a Jogar\n",
       "0              3\n",
       "1              1"
      ]
     },
     "metadata": {},
     "output_type": "display_data"
    }
   ],
   "source": [
    "# Exemplo de dados de entrada (X)\n",
    "X = np.array([\n",
    "    [1, 2, 3, 0, 1, 13, 7, 1, 1, 0, 0, 5, 8],\n",
    "    [0, 0, 0, 1, 0, 10, 5, 3, 0, 1, 0, 7, 6],\n",
    "    # Adicione mais exemplos conforme necessário\n",
    "])\n",
    "\n",
    "# Exemplo de dados de saída (y)\n",
    "y = np.array([3, 1])\n",
    "\n",
    "# Criar DataFrame para os dados de entrada\n",
    "df_X = pd.DataFrame(X, columns=[\n",
    "    'Primeira Carta', 'Segunda Carta', 'Terceira Carta', 'Minhas Vitórias', 'Vitórias do Adversário',\n",
    "    'Minha Carta Mais Forte', 'Minha Carta Média', 'Minha Carta Mais Fraca', 'Joguei Carta Mais Forte',\n",
    "    'Joguei Carta Média', 'Joguei Carta Mais Fraca', 'Primeira Carta Adversário', 'Segunda Carta Adversário'\n",
    "])\n",
    "\n",
    "# Criar DataFrame para os dados de saída\n",
    "df_y = pd.DataFrame(y, columns=['Carta a Jogar'])\n",
    "\n",
    "# Exibir os DataFrames\n",
    "print(\"Dados de Entrada:\")\n",
    "display(df_X)\n",
    "print(\"\\nDados de Saída:\")\n",
    "display(df_y)"
   ]
  }
 ],
 "metadata": {
  "kernelspec": {
   "display_name": "Python 3",
   "language": "python",
   "name": "python3"
  },
  "language_info": {
   "codemirror_mode": {
    "name": "ipython",
    "version": 3
   },
   "file_extension": ".py",
   "mimetype": "text/x-python",
   "name": "python",
   "nbconvert_exporter": "python",
   "pygments_lexer": "ipython3",
   "version": "3.8.0"
  }
 },
 "nbformat": 4,
 "nbformat_minor": 2
}

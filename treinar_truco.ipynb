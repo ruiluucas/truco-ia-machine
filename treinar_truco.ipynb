{
 "cells": [
  {
   "cell_type": "code",
   "execution_count": 1,
   "metadata": {},
   "outputs": [],
   "source": [
    "import numpy as np\n",
    "import pandas as pd\n",
    "from tensorflow.keras.models import Sequential\n",
    "from tensorflow.keras.layers import Dense"
   ]
  },
  {
   "cell_type": "code",
   "execution_count": null,
   "metadata": {},
   "outputs": [],
   "source": [
    "# Exemplo de dados de entrada (X)\n",
    "X = np.array([\n",
    "    [1, 2, 3, 0, 1, 13, 7, 1, 1, 0, 0, 5, 8],\n",
    "    [0, 0, 0, 1, 0, 10, 5, 3, 0, 1, 0, 7, 6],\n",
    "    # Adicione mais exemplos conforme necessário\n",
    "])\n",
    "\n",
    "# Exemplo de dados de saída (y)\n",
    "y = np.array([3, 1])\n",
    "\n",
    "# Criar DataFrame para os dados de entrada\n",
    "df_X = pd.DataFrame(X, columns=[\n",
    "    'Primeira Carta', 'Segunda Carta', 'Terceira Carta', 'Minhas Vitórias', 'Vitórias do Adversário',\n",
    "    'Minha Carta Mais Forte', 'Minha Carta Média', 'Minha Carta Mais Fraca', 'Joguei Carta Mais Forte',\n",
    "    'Joguei Carta Média', 'Joguei Carta Mais Fraca', 'Primeira Carta Adversário', 'Segunda Carta Adversário'\n",
    "])\n",
    "\n",
    "# Criar DataFrame para os dados de saída\n",
    "df_y = pd.DataFrame(y, columns=['Carta a Jogar'])\n",
    "\n",
    "# Exibir os DataFrames\n",
    "print(\"Dados de Entrada:\")\n",
    "print(df_X)\n",
    "print(\"\\nDados de Saída:\")\n",
    "print(df_y)"
   ]
  }
 ],
 "metadata": {
  "kernelspec": {
   "display_name": "Python 3",
   "language": "python",
   "name": "python3"
  },
  "language_info": {
   "codemirror_mode": {
    "name": "ipython",
    "version": 3
   },
   "file_extension": ".py",
   "mimetype": "text/x-python",
   "name": "python",
   "nbconvert_exporter": "python",
   "pygments_lexer": "ipython3",
   "version": "3.8.0"
  }
 },
 "nbformat": 4,
 "nbformat_minor": 2
}
